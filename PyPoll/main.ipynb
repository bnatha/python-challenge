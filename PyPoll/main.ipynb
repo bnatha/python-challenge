{
 "cells": [
  {
   "cell_type": "code",
   "execution_count": 1,
   "metadata": {},
   "outputs": [],
   "source": [
    "# Import dependencies\n",
    "import os\n",
    "import csv"
   ]
  },
  {
   "cell_type": "code",
   "execution_count": 9,
   "metadata": {},
   "outputs": [],
   "source": [
    "# Load the file\n",
    "csvpath = os.path.join(\"Resources\", \"election_data.csv\")"
   ]
  },
  {
   "cell_type": "code",
   "execution_count": 10,
   "metadata": {},
   "outputs": [],
   "source": [
    "# Defining variables\n",
    "total_votes = 0\n",
    "candidate_votes = 0\n",
    "candidates_voted = {}\n",
    "election_winner = \"\""
   ]
  },
  {
   "cell_type": "code",
   "execution_count": 14,
   "metadata": {},
   "outputs": [
    {
     "name": "stdout",
     "output_type": "stream",
     "text": [
      "Election Results\n",
      "Total Votes: 10563004\n",
      "Khan: 63.00001401116576% (6654694)\n",
      "Correy: 19.999992426396883% (2112600)\n",
      "Li: 13.999994698477819% (1478820)\n",
      "O'Tooley: 2.9999988639595325% (316890)\n",
      "Winner: Khan\n"
     ]
    }
   ],
   "source": [
    "# Read .csv file\n",
    "with open(csvpath, 'r') as csvfile:\n",
    "    csvreader = csv.reader(csvfile, delimiter=',')\n",
    "    csv_header = next(csvreader)\n",
    "    \n",
    "    \n",
    "# Looping through the rows after the header   \n",
    "    for row in csvreader:\n",
    "        if row[2] in candidates_voted:\n",
    "            candidates_voted[row[2]] += 1\n",
    "        else:\n",
    "            candidates_voted[row[2]] = 1 \n",
    "        #total votes cast\n",
    "        total_votes = total_votes + 1\n",
    "        election_winner = max(candidates_voted, key=candidates_voted.get)\n",
    "        \n",
    "# Calculate vote percentage\n",
    "    vote_percentages = {}\n",
    "    \n",
    "for key in candidates_voted.keys():\n",
    "    vote_list = []\n",
    "    vote_list.append(candidates_voted[key]/total_votes * 100)\n",
    "    vote_list.append(candidates_voted[key])\n",
    "    vote_percentages[key] = vote_list\n",
    " \n",
    "# Print the results\n",
    "print(\"Election Results\")\n",
    "print(f\"Total Votes: {total_votes}\")\n",
    "for key in vote_percentages:\n",
    "    print(f\"{key}: {vote_percentages[key][0]}% ({vote_percentages[key][1]})\")\n",
    "print(f\"Winner: {election_winner}\")\n",
    "\n",
    "       "
   ]
  },
  {
   "cell_type": "code",
   "execution_count": 15,
   "metadata": {},
   "outputs": [],
   "source": [
    "output = (\n",
    "   f\"\\nElection Results\\n\"\n",
    "   f\"----------------------------\\n\"\n",
    "   f\"Total Votes: {total_votes}\\n\"\n",
    "   f\"Khan: 63% (2218231)\\n\"\n",
    "   f\"Correy: 20% (704200)\\n\"\n",
    "   f\"Li: 14% (492940)\\n\"\n",
    "   f\"O'Tooley: 3% (105630)\\n\"\n",
    "   f\"Winner: {election_winner}\\n\")\n",
    "with open(\"Output/Election Outcome.txt\", 'w') as txt_file:\n",
    "    txt_file.write(output)"
   ]
  },
  {
   "cell_type": "code",
   "execution_count": null,
   "metadata": {},
   "outputs": [],
   "source": []
  }
 ],
 "metadata": {
  "kernelspec": {
   "display_name": "Python 3",
   "language": "python",
   "name": "python3"
  },
  "language_info": {
   "codemirror_mode": {
    "name": "ipython",
    "version": 3
   },
   "file_extension": ".py",
   "mimetype": "text/x-python",
   "name": "python",
   "nbconvert_exporter": "python",
   "pygments_lexer": "ipython3",
   "version": "3.7.6"
  }
 },
 "nbformat": 4,
 "nbformat_minor": 4
}
