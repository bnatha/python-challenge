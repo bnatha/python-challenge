{
 "cells": [
  {
   "cell_type": "code",
   "execution_count": 18,
   "metadata": {},
   "outputs": [],
   "source": [
    "# Import dependencies\n",
    "import os\n",
    "import csv"
   ]
  },
  {
   "cell_type": "code",
   "execution_count": 19,
   "metadata": {},
   "outputs": [],
   "source": [
    "# Load the files\n",
    "csvpath = os.path.join(\"Resources\", \"budget_data.csv\")\n",
    "pathout = os.path.join(\"Output\", \"budget_outcome.txt\")"
   ]
  },
  {
   "cell_type": "code",
   "execution_count": 20,
   "metadata": {},
   "outputs": [],
   "source": [
    "# Open the csv file\n",
    "with open(csvpath, 'r') as csvfile:\n",
    "\n",
    "    # Split the data on commas\n",
    "    csvreader = csv.reader(csvfile, delimiter=',')\n",
    "    header = next(csvreader)"
   ]
  },
  {
   "cell_type": "code",
   "execution_count": 21,
   "metadata": {},
   "outputs": [],
   "source": [
    "# Define variables\n",
    "total_months = 0\n",
    "total_revenue = 0\n",
    "revenue_change = 0\n",
    "\n",
    "revenue_change_list = []\n",
    "month_of_change = []\n",
    "\n",
    "greatest_increase = [\"\", 0]\n",
    "greatest_decrease = [\"\", 99999999999]"
   ]
  },
  {
   "cell_type": "code",
   "execution_count": 22,
   "metadata": {},
   "outputs": [
    {
     "name": "stdout",
     "output_type": "stream",
     "text": [
      "Financial Analysis\n",
      "Total Months: 86\n",
      "Total: $74638024\n",
      "Average Change: $-2315.1176470588234\n",
      "Greatest Increase in Profits: Feb-2012 ($1926159)\n",
      "Greatest Decrease in Profits: Sep-2013 ($-2196167)\n"
     ]
    }
   ],
   "source": [
    "# Start loop\n",
    "with open(csvpath, newline='') as csvfile:\n",
    "    csvreader = csv.reader(csvfile, delimiter=',')\n",
    "    csv_header = next(csvreader)\n",
    "\n",
    "    first_row = next(csvreader)\n",
    "    total_months = total_months + 1\n",
    "    total_revenue = total_revenue + int(first_row[1])\n",
    "    previous_revenue = int(first_row[1])\n",
    "    \n",
    "    for row in csvreader:\n",
    "        total_months = total_months + 1\n",
    "        total_revenue = total_revenue + int(first_row[1])\n",
    "        revenue_change = int(row[1]) - previous_revenue\n",
    "        previous_revenue = int(row[1])\n",
    "        revenue_change_list = revenue_change_list + [revenue_change]\n",
    "        month_of_change = month_of_change + [row[0]]\n",
    "        if revenue_change > greatest_increase[1]:\n",
    "            greatest_increase[0] = row[0]\n",
    "            greatest_increase[1] = revenue_change\n",
    "        if revenue_change < greatest_decrease[1]:\n",
    "            greatest_decrease[0] = row[0]\n",
    "            greatest_decrease[1] = revenue_change\n",
    "\n",
    "\n",
    "monthly_revenue_average = sum(revenue_change_list)/len(revenue_change_list)\n",
    "print(\"Financial Analysis\")\n",
    "print(f\"Total Months: {total_months}\")\n",
    "print(f\"Total: ${total_revenue}\")\n",
    "print(f\"Average Change: ${monthly_revenue_average}\")\n",
    "print(f\"Greatest Increase in Profits: {greatest_increase[0]} (${greatest_increase[1]})\")\n",
    "print(f\"Greatest Decrease in Profits: {greatest_decrease[0]} (${greatest_decrease[1]})\")\n",
    "\n"
   ]
  },
  {
   "cell_type": "code",
   "execution_count": 27,
   "metadata": {},
   "outputs": [],
   "source": [
    "output = (\n",
    "   f\"\\nFinancial Analysis\\n\"\n",
    "   f\"----------------------------\\n\"\n",
    "   f\"Total Months: {total_months}\\n\"\n",
    "   f\"Total: ${total_revenue}\\n\"\n",
    "   f\"Average  Change: ${monthly_revenue_average}\\n\"\n",
    "   f\"Greatest Increase in Profits: {greatest_increase[0]} (${greatest_increase[1]})\\n\"\n",
    "   f\"Greatest Decrease in Profits: {greatest_decrease[0]} (${greatest_decrease[1]})\\n\")\n",
    "with open(\"Output/budget_outcome.txt\", 'w') as txt_file:\n",
    "    txt_file.write(output)"
   ]
  },
  {
   "cell_type": "code",
   "execution_count": null,
   "metadata": {},
   "outputs": [],
   "source": []
  }
 ],
 "metadata": {
  "kernelspec": {
   "display_name": "Python 3",
   "language": "python",
   "name": "python3"
  },
  "language_info": {
   "codemirror_mode": {
    "name": "ipython",
    "version": 3
   },
   "file_extension": ".py",
   "mimetype": "text/x-python",
   "name": "python",
   "nbconvert_exporter": "python",
   "pygments_lexer": "ipython3",
   "version": "3.7.6"
  }
 },
 "nbformat": 4,
 "nbformat_minor": 4
}
